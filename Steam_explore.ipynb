{
 "cells": [
  {
   "cell_type": "code",
   "execution_count": 99,
   "metadata": {},
   "outputs": [
    {
     "name": "stdout",
     "output_type": "stream",
     "text": [
      "Requirement already satisfied: dataframe_image in c:\\users\\tim\\anaconda3\\lib\\site-packages (0.1.11)\n",
      "Requirement already satisfied: nbconvert>=5 in c:\\users\\tim\\anaconda3\\lib\\site-packages (from dataframe_image) (6.5.4)\n",
      "Requirement already satisfied: aiohttp in c:\\users\\tim\\anaconda3\\lib\\site-packages (from dataframe_image) (3.8.5)\n",
      "Requirement already satisfied: requests in c:\\users\\tim\\anaconda3\\lib\\site-packages (from dataframe_image) (2.28.1)\n",
      "Requirement already satisfied: cssutils in c:\\users\\tim\\anaconda3\\lib\\site-packages (from dataframe_image) (2.7.1)\n",
      "Requirement already satisfied: packaging in c:\\users\\tim\\anaconda3\\lib\\site-packages (from dataframe_image) (22.0)\n",
      "Requirement already satisfied: html2image in c:\\users\\tim\\anaconda3\\lib\\site-packages (from dataframe_image) (2.0.3)\n",
      "Requirement already satisfied: beautifulsoup4 in c:\\users\\tim\\anaconda3\\lib\\site-packages (from dataframe_image) (4.11.1)\n",
      "Requirement already satisfied: pillow in c:\\users\\tim\\anaconda3\\lib\\site-packages (from dataframe_image) (9.4.0)\n",
      "Requirement already satisfied: pandas>=0.24 in c:\\users\\tim\\anaconda3\\lib\\site-packages (from dataframe_image) (1.5.3)\n",
      "Requirement already satisfied: lxml in c:\\users\\tim\\anaconda3\\lib\\site-packages (from dataframe_image) (4.9.1)\n",
      "Requirement already satisfied: mistune in c:\\users\\tim\\anaconda3\\lib\\site-packages (from dataframe_image) (0.8.4)\n",
      "Requirement already satisfied: nbformat>=5.1 in c:\\users\\tim\\anaconda3\\lib\\site-packages (from nbconvert>=5->dataframe_image) (5.7.0)\n",
      "Requirement already satisfied: traitlets>=5.0 in c:\\users\\tim\\anaconda3\\lib\\site-packages (from nbconvert>=5->dataframe_image) (5.7.1)\n",
      "Requirement already satisfied: defusedxml in c:\\users\\tim\\anaconda3\\lib\\site-packages (from nbconvert>=5->dataframe_image) (0.7.1)\n",
      "Requirement already satisfied: nbclient>=0.5.0 in c:\\users\\tim\\anaconda3\\lib\\site-packages (from nbconvert>=5->dataframe_image) (0.5.13)\n",
      "Requirement already satisfied: jupyter-core>=4.7 in c:\\users\\tim\\anaconda3\\lib\\site-packages (from nbconvert>=5->dataframe_image) (5.2.0)\n",
      "Requirement already satisfied: pygments>=2.4.1 in c:\\users\\tim\\anaconda3\\lib\\site-packages (from nbconvert>=5->dataframe_image) (2.11.2)\n",
      "Requirement already satisfied: MarkupSafe>=2.0 in c:\\users\\tim\\anaconda3\\lib\\site-packages (from nbconvert>=5->dataframe_image) (2.1.1)\n",
      "Requirement already satisfied: jupyterlab-pygments in c:\\users\\tim\\anaconda3\\lib\\site-packages (from nbconvert>=5->dataframe_image) (0.1.2)\n",
      "Requirement already satisfied: jinja2>=3.0 in c:\\users\\tim\\anaconda3\\lib\\site-packages (from nbconvert>=5->dataframe_image) (3.1.2)\n",
      "Requirement already satisfied: tinycss2 in c:\\users\\tim\\anaconda3\\lib\\site-packages (from nbconvert>=5->dataframe_image) (1.2.1)\n",
      "Requirement already satisfied: pandocfilters>=1.4.1 in c:\\users\\tim\\anaconda3\\lib\\site-packages (from nbconvert>=5->dataframe_image) (1.5.0)\n",
      "Requirement already satisfied: bleach in c:\\users\\tim\\anaconda3\\lib\\site-packages (from nbconvert>=5->dataframe_image) (4.1.0)\n",
      "Requirement already satisfied: entrypoints>=0.2.2 in c:\\users\\tim\\anaconda3\\lib\\site-packages (from nbconvert>=5->dataframe_image) (0.4)\n",
      "Requirement already satisfied: python-dateutil>=2.8.1 in c:\\users\\tim\\anaconda3\\lib\\site-packages (from pandas>=0.24->dataframe_image) (2.8.2)\n",
      "Requirement already satisfied: numpy>=1.21.0 in c:\\users\\tim\\anaconda3\\lib\\site-packages (from pandas>=0.24->dataframe_image) (1.23.5)\n",
      "Requirement already satisfied: pytz>=2020.1 in c:\\users\\tim\\anaconda3\\lib\\site-packages (from pandas>=0.24->dataframe_image) (2022.7)\n",
      "Requirement already satisfied: async-timeout<5.0,>=4.0.0a3 in c:\\users\\tim\\anaconda3\\lib\\site-packages (from aiohttp->dataframe_image) (4.0.2)\n",
      "Requirement already satisfied: charset-normalizer<4.0,>=2.0 in c:\\users\\tim\\anaconda3\\lib\\site-packages (from aiohttp->dataframe_image) (2.0.4)\n",
      "Requirement already satisfied: aiosignal>=1.1.2 in c:\\users\\tim\\anaconda3\\lib\\site-packages (from aiohttp->dataframe_image) (1.3.1)\n",
      "Requirement already satisfied: yarl<2.0,>=1.0 in c:\\users\\tim\\anaconda3\\lib\\site-packages (from aiohttp->dataframe_image) (1.9.2)\n",
      "Requirement already satisfied: attrs>=17.3.0 in c:\\users\\tim\\anaconda3\\lib\\site-packages (from aiohttp->dataframe_image) (22.1.0)\n",
      "Requirement already satisfied: frozenlist>=1.1.1 in c:\\users\\tim\\anaconda3\\lib\\site-packages (from aiohttp->dataframe_image) (1.4.0)\n",
      "Requirement already satisfied: multidict<7.0,>=4.5 in c:\\users\\tim\\anaconda3\\lib\\site-packages (from aiohttp->dataframe_image) (6.0.4)\n",
      "Requirement already satisfied: soupsieve>1.2 in c:\\users\\tim\\anaconda3\\lib\\site-packages (from beautifulsoup4->dataframe_image) (2.3.2.post1)\n",
      "Requirement already satisfied: certifi>=2017.4.17 in c:\\users\\tim\\anaconda3\\lib\\site-packages (from requests->dataframe_image) (2022.12.7)\n",
      "Requirement already satisfied: urllib3<1.27,>=1.21.1 in c:\\users\\tim\\anaconda3\\lib\\site-packages (from requests->dataframe_image) (1.26.14)\n",
      "Requirement already satisfied: idna<4,>=2.5 in c:\\users\\tim\\anaconda3\\lib\\site-packages (from requests->dataframe_image) (3.4)\n",
      "Requirement already satisfied: platformdirs>=2.5 in c:\\users\\tim\\anaconda3\\lib\\site-packages (from jupyter-core>=4.7->nbconvert>=5->dataframe_image) (2.5.2)\n",
      "Requirement already satisfied: pywin32>=1.0 in c:\\users\\tim\\anaconda3\\lib\\site-packages (from jupyter-core>=4.7->nbconvert>=5->dataframe_image) (305.1)\n",
      "Requirement already satisfied: jupyter-client>=6.1.5 in c:\\users\\tim\\anaconda3\\lib\\site-packages (from nbclient>=0.5.0->nbconvert>=5->dataframe_image) (7.3.4)\n",
      "Requirement already satisfied: nest-asyncio in c:\\users\\tim\\anaconda3\\lib\\site-packages (from nbclient>=0.5.0->nbconvert>=5->dataframe_image) (1.5.6)\n",
      "Requirement already satisfied: fastjsonschema in c:\\users\\tim\\anaconda3\\lib\\site-packages (from nbformat>=5.1->nbconvert>=5->dataframe_image) (2.16.2)\n",
      "Requirement already satisfied: jsonschema>=2.6 in c:\\users\\tim\\anaconda3\\lib\\site-packages (from nbformat>=5.1->nbconvert>=5->dataframe_image) (4.17.3)\n",
      "Requirement already satisfied: six>=1.5 in c:\\users\\tim\\anaconda3\\lib\\site-packages (from python-dateutil>=2.8.1->pandas>=0.24->dataframe_image) (1.16.0)\n",
      "Requirement already satisfied: webencodings in c:\\users\\tim\\anaconda3\\lib\\site-packages (from bleach->nbconvert>=5->dataframe_image) (0.5.1)\n",
      "Requirement already satisfied: pyrsistent!=0.17.0,!=0.17.1,!=0.17.2,>=0.14.0 in c:\\users\\tim\\anaconda3\\lib\\site-packages (from jsonschema>=2.6->nbformat>=5.1->nbconvert>=5->dataframe_image) (0.18.0)\n",
      "Requirement already satisfied: pyzmq>=23.0 in c:\\users\\tim\\anaconda3\\lib\\site-packages (from jupyter-client>=6.1.5->nbclient>=0.5.0->nbconvert>=5->dataframe_image) (23.2.0)\n",
      "Requirement already satisfied: tornado>=6.0 in c:\\users\\tim\\anaconda3\\lib\\site-packages (from jupyter-client>=6.1.5->nbclient>=0.5.0->nbconvert>=5->dataframe_image) (6.1)\n"
     ]
    }
   ],
   "source": [
    "import matplotlib.pyplot as plt\n",
    "import pandas as pd\n",
    "import numpy as np\n",
    "import requests\n",
    "import time\n",
    "from scipy.stats import linregress\n",
    "import dataframe_image as dfi\n",
    "!pip install dataframe_image\n",
    "# from config import Steam_key\n"
   ]
  },
  {
   "cell_type": "code",
   "execution_count": 68,
   "metadata": {},
   "outputs": [],
   "source": [
    "from pathlib import Path\n",
    "game_sales = Path(\"Video_Games.csv\")\n",
    "game_sales_df = pd.read_csv(game_sales)\n",
    "game_sales_df.head()\n",
    "game_sales_df = df_filtered = game_sales_df[game_sales_df['Global_Sales'] >= 1.0]"
   ]
  },
  {
   "cell_type": "code",
   "execution_count": 69,
   "metadata": {},
   "outputs": [
    {
     "data": {
      "text/plain": [
       "Action          421\n",
       "Sports          305\n",
       "Shooter         256\n",
       "Role-Playing    203\n",
       "Platform        194\n",
       "Racing          182\n",
       "Misc            169\n",
       "Fighting        125\n",
       "Simulation       93\n",
       "Puzzle           55\n",
       "Adventure        41\n",
       "Strategy         31\n",
       "Name: Genre, dtype: int64"
      ]
     },
     "execution_count": 69,
     "metadata": {},
     "output_type": "execute_result"
    }
   ],
   "source": [
    "genre_counts = game_sales_df['Genre'].value_counts()\n",
    "genre_counts"
   ]
  },
  {
   "cell_type": "code",
   "execution_count": 70,
   "metadata": {},
   "outputs": [
    {
     "name": "stdout",
     "output_type": "stream",
     "text": [
      "Genre\n",
      "Action          18.689107\n",
      "Shooter         16.077986\n",
      "Sports          13.737821\n",
      "Platform        12.359064\n",
      "Role-Playing     8.391378\n",
      "Misc             8.387441\n",
      "Racing           8.103958\n",
      "Fighting         5.153517\n",
      "Simulation       3.392846\n",
      "Puzzle           2.836260\n",
      "Adventure        1.604613\n",
      "Strategy         1.202296\n",
      "Name: NA_Sales, dtype: float64\n"
     ]
    }
   ],
   "source": [
    "ttl_NA_sales = game_sales_df['NA_Sales'].sum()\n",
    "\n",
    "NA_genre_ttl_sales = game_sales_df.groupby('Genre')['NA_Sales'].sum()\n",
    "\n",
    "NA_Genre_pert = (NA_genre_ttl_sales/ttl_NA_sales)*100\n",
    "\n",
    "print(NA_Genre_pert.sort_values(ascending = False))\n",
    "\n",
    "NA_pert_sales_genre = NA_Genre_pert.sort_values(ascending = False)\n",
    "\n",
    "\n",
    "#plt.bar(NA_pert_sales_genre.index, NA_pert_sales_genre.values, color = 'blue', alpha = 1, align = 'center')\n",
    "\n",
    "#plt.xlabel('Genre') \n",
    "#plt.ylabel('Percentage of Total Sales') \n",
    "#plt.title('Percentage of Total North American Sales by Genre')\n",
    "#plt.xticks(rotation=90)\n",
    "#plt.show()"
   ]
  },
  {
   "cell_type": "code",
   "execution_count": 71,
   "metadata": {},
   "outputs": [
    {
     "name": "stdout",
     "output_type": "stream",
     "text": [
      "Genre\n",
      "Action          20.503116\n",
      "Sports          15.461712\n",
      "Shooter         14.164748\n",
      "Racing           9.639839\n",
      "Platform         9.480732\n",
      "Role-Playing     8.561648\n",
      "Misc             8.371804\n",
      "Simulation       4.805757\n",
      "Fighting         4.019262\n",
      "Puzzle           1.969553\n",
      "Adventure        1.815267\n",
      "Strategy         1.174620\n",
      "Name: EU_Sales, dtype: float64\n"
     ]
    }
   ],
   "source": [
    "ttl_EU_sales = game_sales_df['EU_Sales'].sum()\n",
    "\n",
    "EU_genre_ttl_sales = game_sales_df.groupby('Genre')['EU_Sales'].sum()\n",
    "\n",
    "EU_Genre_pert = (EU_genre_ttl_sales/ttl_EU_sales)*100\n",
    "\n",
    "print(EU_Genre_pert.sort_values(ascending = False))\n",
    "\n",
    "EU_pert_sales_genre = EU_Genre_pert.sort_values(ascending = False)\n",
    "\n",
    "#plt.bar(EU_pert_sales_genre.index, EU_pert_sales_genre.values, color = 'red', alpha = 1, align = 'center')\n",
    "\n",
    "#plt.xlabel('Genre') \n",
    "#plt.ylabel('Percentage of Total Sales') \n",
    "#plt.title('Percentage of Total EU Sales by Genre')\n",
    "#plt.xticks(rotation=90)\n",
    "#plt.show()"
   ]
  },
  {
   "cell_type": "code",
   "execution_count": 72,
   "metadata": {},
   "outputs": [
    {
     "name": "stdout",
     "output_type": "stream",
     "text": [
      "Genre\n",
      "Role-Playing    30.767645\n",
      "Platform        15.362526\n",
      "Action          10.642888\n",
      "Sports           8.775642\n",
      "Misc             7.442877\n",
      "Racing           6.170566\n",
      "Fighting         5.406631\n",
      "Puzzle           5.096110\n",
      "Simulation       4.725134\n",
      "Shooter          3.065360\n",
      "Adventure        1.310782\n",
      "Strategy         1.233839\n",
      "Name: JP_Sales, dtype: float64\n"
     ]
    }
   ],
   "source": [
    "ttl_JP_sales = game_sales_df['JP_Sales'].sum()\n",
    "\n",
    "JP_genre_ttl_sales = game_sales_df.groupby('Genre')['JP_Sales'].sum()\n",
    "\n",
    "JP_Genre_pert = (JP_genre_ttl_sales/ttl_JP_sales)*100\n",
    "\n",
    "print(JP_Genre_pert.sort_values(ascending = False))\n",
    "\n",
    "\n",
    "JP_pert_sales_genre = JP_Genre_pert.sort_values(ascending = False)\n",
    "\n",
    "\n",
    "#plt.bar(JP_pert_sales_genre.index, JP_pert_sales_genre.values, color = 'blue', alpha = 1, align = 'center')\n",
    "\n",
    "#plt.xlabel('Genre') \n",
    "#plt.ylabel('Percentage of Total Sales') \n",
    "#plt.title('Percentage of Total Japanese Sales by Genre')\n",
    "#plt.xticks(rotation=90)\n",
    "#plt.show()"
   ]
  },
  {
   "cell_type": "code",
   "execution_count": 73,
   "metadata": {},
   "outputs": [
    {
     "data": {
      "text/html": [
       "<div>\n",
       "<style scoped>\n",
       "    .dataframe tbody tr th:only-of-type {\n",
       "        vertical-align: middle;\n",
       "    }\n",
       "\n",
       "    .dataframe tbody tr th {\n",
       "        vertical-align: top;\n",
       "    }\n",
       "\n",
       "    .dataframe thead th {\n",
       "        text-align: right;\n",
       "    }\n",
       "</style>\n",
       "<table border=\"1\" class=\"dataframe\">\n",
       "  <thead>\n",
       "    <tr style=\"text-align: right;\">\n",
       "      <th></th>\n",
       "      <th>NA_Genre_%_sales</th>\n",
       "      <th>EU_Genre_%_sales</th>\n",
       "      <th>JP_Genre_%_sales</th>\n",
       "    </tr>\n",
       "    <tr>\n",
       "      <th>Genre</th>\n",
       "      <th></th>\n",
       "      <th></th>\n",
       "      <th></th>\n",
       "    </tr>\n",
       "  </thead>\n",
       "  <tbody>\n",
       "    <tr>\n",
       "      <th>Action</th>\n",
       "      <td>18.689107</td>\n",
       "      <td>20.503116</td>\n",
       "      <td>10.642888</td>\n",
       "    </tr>\n",
       "    <tr>\n",
       "      <th>Adventure</th>\n",
       "      <td>1.604613</td>\n",
       "      <td>1.815267</td>\n",
       "      <td>1.310782</td>\n",
       "    </tr>\n",
       "    <tr>\n",
       "      <th>Fighting</th>\n",
       "      <td>5.153517</td>\n",
       "      <td>4.019262</td>\n",
       "      <td>5.406631</td>\n",
       "    </tr>\n",
       "    <tr>\n",
       "      <th>Misc</th>\n",
       "      <td>8.387441</td>\n",
       "      <td>8.371804</td>\n",
       "      <td>7.442877</td>\n",
       "    </tr>\n",
       "    <tr>\n",
       "      <th>Platform</th>\n",
       "      <td>12.359064</td>\n",
       "      <td>9.480732</td>\n",
       "      <td>15.362526</td>\n",
       "    </tr>\n",
       "    <tr>\n",
       "      <th>Puzzle</th>\n",
       "      <td>2.836260</td>\n",
       "      <td>1.969553</td>\n",
       "      <td>5.096110</td>\n",
       "    </tr>\n",
       "    <tr>\n",
       "      <th>Racing</th>\n",
       "      <td>8.103958</td>\n",
       "      <td>9.639839</td>\n",
       "      <td>6.170566</td>\n",
       "    </tr>\n",
       "    <tr>\n",
       "      <th>Role-Playing</th>\n",
       "      <td>8.391378</td>\n",
       "      <td>8.561648</td>\n",
       "      <td>30.767645</td>\n",
       "    </tr>\n",
       "    <tr>\n",
       "      <th>Shooter</th>\n",
       "      <td>16.077986</td>\n",
       "      <td>14.164748</td>\n",
       "      <td>3.065360</td>\n",
       "    </tr>\n",
       "    <tr>\n",
       "      <th>Simulation</th>\n",
       "      <td>3.392846</td>\n",
       "      <td>4.805757</td>\n",
       "      <td>4.725134</td>\n",
       "    </tr>\n",
       "    <tr>\n",
       "      <th>Sports</th>\n",
       "      <td>13.737821</td>\n",
       "      <td>15.461712</td>\n",
       "      <td>8.775642</td>\n",
       "    </tr>\n",
       "    <tr>\n",
       "      <th>Strategy</th>\n",
       "      <td>1.202296</td>\n",
       "      <td>1.174620</td>\n",
       "      <td>1.233839</td>\n",
       "    </tr>\n",
       "  </tbody>\n",
       "</table>\n",
       "</div>"
      ],
      "text/plain": [
       "              NA_Genre_%_sales  EU_Genre_%_sales  JP_Genre_%_sales\n",
       "Genre                                                             \n",
       "Action               18.689107         20.503116         10.642888\n",
       "Adventure             1.604613          1.815267          1.310782\n",
       "Fighting              5.153517          4.019262          5.406631\n",
       "Misc                  8.387441          8.371804          7.442877\n",
       "Platform             12.359064          9.480732         15.362526\n",
       "Puzzle                2.836260          1.969553          5.096110\n",
       "Racing                8.103958          9.639839          6.170566\n",
       "Role-Playing          8.391378          8.561648         30.767645\n",
       "Shooter              16.077986         14.164748          3.065360\n",
       "Simulation            3.392846          4.805757          4.725134\n",
       "Sports               13.737821         15.461712          8.775642\n",
       "Strategy              1.202296          1.174620          1.233839"
      ]
     },
     "execution_count": 73,
     "metadata": {},
     "output_type": "execute_result"
    }
   ],
   "source": [
    "Genre_salespercentage_df= pd.DataFrame({'NA_Genre_%_sales': NA_Genre_pert,\n",
    "              'EU_Genre_%_sales': EU_Genre_pert,\n",
    "              'JP_Genre_%_sales':JP_Genre_pert})\n",
    "\n",
    "Genre_salespercentage_df"
   ]
  },
  {
   "cell_type": "code",
   "execution_count": 74,
   "metadata": {},
   "outputs": [
    {
     "data": {
      "image/png": "[encoded data removed]",
      "text/plain": [
       "<Figure size 2900x1500 with 4 Axes>"
      ]
     },
     "metadata": {},
     "output_type": "display_data"
    }
   ],
   "source": [
    "fig, axs = plt.subplots(2, 2, figsize=(29, 15))\n",
    "\n",
    "axs[0, 0].bar(NA_pert_sales_genre.index, NA_pert_sales_genre.values, color = 'blue', alpha = 1)\n",
    "axs[0, 0].set_title('North America')\n",
    "\n",
    "axs[0, 1].bar(EU_pert_sales_genre.index, EU_pert_sales_genre.values, color = 'red', alpha = 1)\n",
    "axs[0, 1].set_title('Europe')\n",
    "\n",
    "axs[1, 0].bar(JP_pert_sales_genre.index, JP_pert_sales_genre.values, color = 'green', alpha = 1)\n",
    "axs[1, 0].set_title('Japan')\n",
    "\n",
    "\n",
    "\n",
    "for ax in axs.flat:\n",
    "    ax.set(xlabel='Genre', ylabel='Percentage of Total Sales')\n",
    "\n",
    "#for ax in axs.flat:\n",
    "    #ax.label_outer()\n",
    "\n",
    "ax.tick_params(axis='x', rotation=45)    \n",
    "    \n",
    "plt.show()"
   ]
  },
  {
   "cell_type": "code",
   "execution_count": 75,
   "metadata": {},
   "outputs": [
    {
     "data": {
      "text/plain": [
       "dtype('float64')"
      ]
     },
     "execution_count": 75,
     "metadata": {},
     "output_type": "execute_result"
    }
   ],
   "source": [
    "Yr = game_sales_df['Year_of_Release'].value_counts()\n",
    "\n",
    "game_sales_df['Year_of_Release'].dtypes\n"
   ]
  },
  {
   "cell_type": "code",
   "execution_count": 76,
   "metadata": {},
   "outputs": [
    {
     "data": {
      "text/plain": [
       "Index(['Name', 'Platform', 'Year_of_Release', 'Genre', 'Publisher', 'NA_Sales',\n",
       "       'EU_Sales', 'JP_Sales', 'Other_Sales', 'Global_Sales', 'Critic_Score',\n",
       "       'Critic_Count', 'User_Score', 'User_Count', 'Developer', 'Rating'],\n",
       "      dtype='object')"
      ]
     },
     "execution_count": 76,
     "metadata": {},
     "output_type": "execute_result"
    }
   ],
   "source": [
    "game_sales_df.columns"
   ]
  },
  {
   "cell_type": "code",
   "execution_count": 109,
   "metadata": {},
   "outputs": [
    {
     "name": "stdout",
     "output_type": "stream",
     "text": [
      "Sales Numbers in $M\n"
     ]
    }
   ],
   "source": [
    "game_sales_df2 = game_sales_df.copy()\n",
    "\n",
    "game_sales_df2['NA_game_count'] = game_sales_df2['NA_Sales'].apply(lambda n: n>0)\n",
    "NA_publisher_df = game_sales_df2.groupby('Publisher')[['NA_Sales','NA_game_count']].sum().sort_values(by='NA_Sales',ascending=False)\n",
    "\n",
    "NA_publisher_df['NA_avg_ppg'] = NA_publisher_df['NA_Sales']/NA_publisher_df['NA_game_count']\n",
    "NA_publisher_df['NA_avg_ppg'] = round(NA_publisher_df['NA_avg_ppg'], 2)\n",
    "print('Sales Numbers in $M')\n",
    "NA_publisher_df.head(10)\n",
    "dfi.export(NA_publisher_df.head(10), 'NApub.png')"
   ]
  },
  {
   "cell_type": "code",
   "execution_count": 108,
   "metadata": {},
   "outputs": [
    {
     "name": "stdout",
     "output_type": "stream",
     "text": [
      "Sales Numbers in $M\n"
     ]
    }
   ],
   "source": [
    "game_sales_df2['EU_game_count'] = game_sales_df2['EU_Sales'].apply(lambda n: n>0)\n",
    "EU_publisher_df = game_sales_df2.groupby('Publisher')[['EU_Sales','EU_game_count']].sum().sort_values(by='EU_Sales',ascending=False)\n",
    "\n",
    "EU_publisher_df['EU_avg_ppg'] = EU_publisher_df['EU_Sales']/EU_publisher_df['EU_game_count']\n",
    "EU_publisher_df['EU_avg_ppg'] = round(EU_publisher_df['EU_avg_ppg'], 2)\n",
    "print('Sales Numbers in $M')\n",
    "EU_publisher_df.head(10)\n",
    "dfi.export(EU_publisher_df.head(10), 'EUpub.png')"
   ]
  },
  {
   "cell_type": "code",
   "execution_count": 106,
   "metadata": {},
   "outputs": [
    {
     "name": "stdout",
     "output_type": "stream",
     "text": [
      "Sales Numbers in $M\n"
     ]
    }
   ],
   "source": [
    "game_sales_df2['JP_game_count'] = game_sales_df2['JP_Sales'].apply(lambda n: n>0)\n",
    "JP_publisher_df = game_sales_df2.groupby('Publisher')[['JP_Sales','JP_game_count']].sum().sort_values(by='JP_Sales',ascending=False)\n",
    "\n",
    "JP_publisher_df['JP_avg_ppg'] = JP_publisher_df['JP_Sales']/JP_publisher_df['JP_game_count']\n",
    "JP_publisher_df['JP_avg_ppg'] = round(JP_publisher_df['JP_avg_ppg'], 2)\n",
    "print('Sales Numbers in $M')\n",
    "JP_publisher_df.head(10)\n",
    "\n",
    "dfi.export(JP_publisher_df.head(10), 'JPpub.png')"
   ]
  },
  {
   "cell_type": "code",
   "execution_count": 105,
   "metadata": {},
   "outputs": [
    {
     "name": "stdout",
     "output_type": "stream",
     "text": [
      "Sales Numbers in $M\n"
     ]
    }
   ],
   "source": [
    "game_sales_df2['Other_game_count'] = game_sales_df2['Other_Sales'].apply(lambda n: n>0)\n",
    "OT_publisher_df = game_sales_df2.groupby('Publisher')[['Other_Sales','Other_game_count']].sum().sort_values(by='Other_Sales',ascending=False)\n",
    "\n",
    "OT_publisher_df['Other_avg_ppg'] = OT_publisher_df['Other_Sales']/OT_publisher_df['Other_game_count']\n",
    "OT_publisher_df['Other_avg_ppg'] = round(OT_publisher_df['Other_avg_ppg'], 2)\n",
    "print('Sales Numbers in $M')\n",
    "OT_publisher_df.head(10)\n",
    "dfi.export(OT_publisher_df.head(10), 'OTpub.png')"
   ]
  },
  {
   "cell_type": "code",
   "execution_count": 107,
   "metadata": {},
   "outputs": [
    {
     "name": "stdout",
     "output_type": "stream",
     "text": [
      "Sales Numbers in $M\n"
     ]
    }
   ],
   "source": [
    "game_sales_df2['Global_game_count'] = game_sales_df2['Global_Sales'].apply(lambda n: n>0)\n",
    "GB_publisher_df = game_sales_df2.groupby('Publisher')[['Global_Sales','Global_game_count']].sum().sort_values(by='Global_Sales',ascending=False)\n",
    "\n",
    "GB_publisher_df['Global_avg_ppg'] = GB_publisher_df['Global_Sales']/GB_publisher_df['Global_game_count']\n",
    "GB_publisher_df['Global_avg_ppg'] = round(GB_publisher_df['Global_avg_ppg'], 2)\n",
    "print('Sales Numbers in $M')\n",
    "GB_publisher_df.head(10)\n",
    "dfi.export(GB_publisher_df.head(10), 'GBpub.png')"
   ]
  },
  {
   "cell_type": "code",
   "execution_count": 111,
   "metadata": {
    "scrolled": true
   },
   "outputs": [
    {
     "name": "stdout",
     "output_type": "stream",
     "text": [
      "Sales Numbers in $M\n"
     ]
    }
   ],
   "source": [
    "game_sales_df3 = game_sales_df.copy()\n",
    "\n",
    "game_sales_df3['NA_game_count'] = game_sales_df2['NA_Sales'].apply(lambda n: n>0)\n",
    "NA_genre_df = game_sales_df3.groupby('Genre')[['NA_Sales','NA_game_count']].sum().sort_values(by='NA_Sales',ascending=False)\n",
    "\n",
    "NA_genre_df['NA_avg_ppg'] = NA_genre_df['NA_Sales']/NA_genre_df['NA_game_count']\n",
    "NA_genre_df['NA_avg_ppg'] = round(NA_genre_df['NA_avg_ppg'], 2)\n",
    "print('Sales Numbers in $M')\n",
    "NA_genre_df.head(10)\n",
    "dfi.export(NA_genre_df.head(10), 'NAgenre.png')"
   ]
  },
  {
   "cell_type": "code",
   "execution_count": 116,
   "metadata": {},
   "outputs": [
    {
     "name": "stdout",
     "output_type": "stream",
     "text": [
      "Sales Numbers in $M\n"
     ]
    }
   ],
   "source": [
    "game_sales_df3['EU_game_count'] = game_sales_df2['EU_Sales'].apply(lambda n: n>0)\n",
    "EU_genre_df = game_sales_df3.groupby('Genre')[['EU_Sales','EU_game_count']].sum().sort_values(by='EU_Sales',ascending=False)\n",
    "\n",
    "EU_genre_df['EU_avg_ppg'] = EU_genre_df['EU_Sales']/EU_genre_df['EU_game_count']\n",
    "EU_genre_df['EU_avg_ppg'] = round(EU_genre_df['EU_avg_ppg'], 2)\n",
    "print('Sales Numbers in $M')\n",
    "EU_genre_df.head(10)\n",
    "dfi.export(EU_genre_df.head(10), 'EUgenre.png')"
   ]
  },
  {
   "cell_type": "code",
   "execution_count": 117,
   "metadata": {},
   "outputs": [
    {
     "name": "stdout",
     "output_type": "stream",
     "text": [
      "Sales Numbers in $M\n"
     ]
    }
   ],
   "source": [
    "game_sales_df3 = game_sales_df.copy()\n",
    "game_sales_df3['JP_game_count'] = game_sales_df2['JP_Sales'].apply(lambda n: n>0)\n",
    "JP_genre_df = game_sales_df3.groupby('Genre')[['JP_Sales','JP_game_count']].sum().sort_values(by='JP_Sales',ascending=False)\n",
    "\n",
    "JP_genre_df['JP_avg_ppg'] = JP_genre_df['JP_Sales']/JP_genre_df['JP_game_count']\n",
    "JP_genre_df['JP_avg_ppg'] = round(JP_genre_df['JP_avg_ppg'], 2)\n",
    "print('Sales Numbers in $M')\n",
    "JP_genre_df.head(10)\n",
    "dfi.export(JP_genre_df.head(10), 'JPgenre.png')"
   ]
  },
  {
   "cell_type": "code",
   "execution_count": 120,
   "metadata": {},
   "outputs": [
    {
     "name": "stdout",
     "output_type": "stream",
     "text": [
      "Sales Numbers in $M\n"
     ]
    }
   ],
   "source": [
    "game_sales_df3['OT_game_count'] = game_sales_df2['Other_Sales'].apply(lambda n: n>0)\n",
    "OT_genre_df = game_sales_df3.groupby('Genre')[['Other_Sales','OT_game_count']].sum().sort_values(by='Other_Sales',ascending=False)\n",
    "\n",
    "OT_genre_df['OT_avg_ppg'] = OT_genre_df['Other_Sales']/OT_genre_df['OT_game_count']\n",
    "OT_genre_df['OT_avg_ppg'] = round(OT_genre_df['OT_avg_ppg'], 2)\n",
    "print('Sales Numbers in $M')\n",
    "OT_genre_df.head(100)\n",
    "dfi.export(OT_genre_df.head(10), 'OTgenre.png')"
   ]
  },
  {
   "cell_type": "code",
   "execution_count": 123,
   "metadata": {},
   "outputs": [
    {
     "name": "stdout",
     "output_type": "stream",
     "text": [
      "Sales Numbers in $M\n"
     ]
    }
   ],
   "source": [
    "game_sales_df3['GB_game_count'] = game_sales_df2['Global_Sales'].apply(lambda n: n>0)\n",
    "GB_genre_df = game_sales_df3.groupby('Genre')[['Global_Sales','GB_game_count']].sum().sort_values(by='Global_Sales',ascending=False)\n",
    "\n",
    "GB_genre_df['GB_avg_ppg'] = GB_genre_df['Global_Sales']/GB_genre_df['GB_game_count']\n",
    "GB_genre_df['GB_avg_ppg'] = round(GB_genre_df['GB_avg_ppg'], 2)\n",
    "print('Sales Numbers in $M')\n",
    "GB_genre_df.head(10)\n",
    "dfi.export(GB_genre_df.head(10), 'GBgenre.png')"
   ]
  },
  {
   "cell_type": "code",
   "execution_count": 87,
   "metadata": {},
   "outputs": [
    {
     "data": {
      "text/html": [
       "<div>\n",
       "<style scoped>\n",
       "    .dataframe tbody tr th:only-of-type {\n",
       "        vertical-align: middle;\n",
       "    }\n",
       "\n",
       "    .dataframe tbody tr th {\n",
       "        vertical-align: top;\n",
       "    }\n",
       "\n",
       "    .dataframe thead th {\n",
       "        text-align: right;\n",
       "    }\n",
       "</style>\n",
       "<table border=\"1\" class=\"dataframe\">\n",
       "  <thead>\n",
       "    <tr style=\"text-align: right;\">\n",
       "      <th></th>\n",
       "      <th>NA_Sales</th>\n",
       "      <th>EU_Sales</th>\n",
       "      <th>JP_Sales</th>\n",
       "      <th>Other_Sales</th>\n",
       "    </tr>\n",
       "    <tr>\n",
       "      <th>Genre</th>\n",
       "      <th></th>\n",
       "      <th></th>\n",
       "      <th></th>\n",
       "      <th></th>\n",
       "    </tr>\n",
       "  </thead>\n",
       "  <tbody>\n",
       "    <tr>\n",
       "      <th>Action</th>\n",
       "      <td>522.14</td>\n",
       "      <td>340.20</td>\n",
       "      <td>77.46</td>\n",
       "      <td>122.61</td>\n",
       "    </tr>\n",
       "    <tr>\n",
       "      <th>Adventure</th>\n",
       "      <td>44.83</td>\n",
       "      <td>30.12</td>\n",
       "      <td>9.54</td>\n",
       "      <td>6.92</td>\n",
       "    </tr>\n",
       "    <tr>\n",
       "      <th>Fighting</th>\n",
       "      <td>143.98</td>\n",
       "      <td>66.69</td>\n",
       "      <td>39.35</td>\n",
       "      <td>23.74</td>\n",
       "    </tr>\n",
       "    <tr>\n",
       "      <th>Misc</th>\n",
       "      <td>234.33</td>\n",
       "      <td>138.91</td>\n",
       "      <td>54.17</td>\n",
       "      <td>45.18</td>\n",
       "    </tr>\n",
       "    <tr>\n",
       "      <th>Platform</th>\n",
       "      <td>345.29</td>\n",
       "      <td>157.31</td>\n",
       "      <td>111.81</td>\n",
       "      <td>38.24</td>\n",
       "    </tr>\n",
       "    <tr>\n",
       "      <th>Puzzle</th>\n",
       "      <td>79.24</td>\n",
       "      <td>32.68</td>\n",
       "      <td>37.09</td>\n",
       "      <td>7.44</td>\n",
       "    </tr>\n",
       "    <tr>\n",
       "      <th>Racing</th>\n",
       "      <td>226.41</td>\n",
       "      <td>159.95</td>\n",
       "      <td>44.91</td>\n",
       "      <td>53.86</td>\n",
       "    </tr>\n",
       "    <tr>\n",
       "      <th>Role-Playing</th>\n",
       "      <td>234.44</td>\n",
       "      <td>142.06</td>\n",
       "      <td>223.93</td>\n",
       "      <td>41.83</td>\n",
       "    </tr>\n",
       "    <tr>\n",
       "      <th>Shooter</th>\n",
       "      <td>449.19</td>\n",
       "      <td>235.03</td>\n",
       "      <td>22.31</td>\n",
       "      <td>79.20</td>\n",
       "    </tr>\n",
       "    <tr>\n",
       "      <th>Simulation</th>\n",
       "      <td>94.79</td>\n",
       "      <td>79.74</td>\n",
       "      <td>34.39</td>\n",
       "      <td>17.68</td>\n",
       "    </tr>\n",
       "    <tr>\n",
       "      <th>Sports</th>\n",
       "      <td>383.81</td>\n",
       "      <td>256.55</td>\n",
       "      <td>63.87</td>\n",
       "      <td>91.73</td>\n",
       "    </tr>\n",
       "    <tr>\n",
       "      <th>Strategy</th>\n",
       "      <td>33.59</td>\n",
       "      <td>19.49</td>\n",
       "      <td>8.98</td>\n",
       "      <td>3.56</td>\n",
       "    </tr>\n",
       "  </tbody>\n",
       "</table>\n",
       "</div>"
      ],
      "text/plain": [
       "              NA_Sales  EU_Sales  JP_Sales  Other_Sales\n",
       "Genre                                                  \n",
       "Action          522.14    340.20     77.46       122.61\n",
       "Adventure        44.83     30.12      9.54         6.92\n",
       "Fighting        143.98     66.69     39.35        23.74\n",
       "Misc            234.33    138.91     54.17        45.18\n",
       "Platform        345.29    157.31    111.81        38.24\n",
       "Puzzle           79.24     32.68     37.09         7.44\n",
       "Racing          226.41    159.95     44.91        53.86\n",
       "Role-Playing    234.44    142.06    223.93        41.83\n",
       "Shooter         449.19    235.03     22.31        79.20\n",
       "Simulation       94.79     79.74     34.39        17.68\n",
       "Sports          383.81    256.55     63.87        91.73\n",
       "Strategy         33.59     19.49      8.98         3.56"
      ]
     },
     "execution_count": 87,
     "metadata": {},
     "output_type": "execute_result"
    }
   ],
   "source": [
    "x = ['NA_Sales', 'EU_Sales', 'JP_Sales', 'Other_Sales']\n",
    "genre_df=game_sales_df3.groupby('Genre')[x].sum()\n",
    "genre_df"
   ]
  },
  {
   "cell_type": "code",
   "execution_count": 126,
   "metadata": {},
   "outputs": [
    {
     "data": {
      "image/png": "[encoded data removed]",
      "text/plain": [
       "<Figure size 1500x800 with 1 Axes>"
      ]
     },
     "metadata": {},
     "output_type": "display_data"
    }
   ],
   "source": [
    "genre_df.plot(kind='bar',figsize=(15,8))\n",
    "plt.xlabel('Genre')\n",
    "plt.ylabel('Sales')\n",
    "plt.title('Video Game Sales Per Region by Genre');\n",
    "dfi.export(genre_df.head(10), 'Bargenre.png')"
   ]
  },
  {
   "cell_type": "code",
   "execution_count": 91,
   "metadata": {},
   "outputs": [
    {
     "name": "stdout",
     "output_type": "stream",
     "text": [
      "Publisher\n",
      "Nintendo                        1655.89\n",
      "Electronic Arts                  745.46\n",
      "Activision                       493.34\n",
      "Sony Computer Entertainment      435.47\n",
      "Take-Two Interactive             310.34\n",
      "Ubisoft                          266.00\n",
      "Microsoft Game Studios           210.34\n",
      "THQ                              151.37\n",
      "Sega                             139.85\n",
      "Konami Digital Entertainment     128.98\n",
      "Name: Global_Sales, dtype: float64\n"
     ]
    }
   ],
   "source": [
    "# Group the data by Publisher and calculate the sum of global sales for each publisher\n",
    "publisher_sales = game_sales_df.groupby('Publisher')['Global_Sales'].sum()\n",
    "# Sort the data by global sales in descending order\n",
    "sorted_publishers = publisher_sales.sort_values(ascending=False)\n",
    "# Get the top 10 publishers by global sales\n",
    "top_10_publishers = sorted_publishers.head(10)\n",
    "# Display the top 10 publishers by global sales\n",
    "print(top_10_publishers)"
   ]
  },
  {
   "cell_type": "code",
   "execution_count": 125,
   "metadata": {},
   "outputs": [
    {
     "data": {
      "image/png": "[encoded data removed]",
      "text/plain": [
       "<Figure size 1500x800 with 1 Axes>"
      ]
     },
     "metadata": {},
     "output_type": "display_data"
    }
   ],
   "source": [
    "top_10_publishers.plot(kind='bar',figsize=(15,8))\n",
    "plt.xlabel('Publisher')\n",
    "plt.ylabel('Sales')\n",
    "plt.title('Video Game Sales Per Region by Publisher');"
   ]
  },
  {
   "cell_type": "code",
   "execution_count": null,
   "metadata": {},
   "outputs": [],
   "source": []
  },
  {
   "cell_type": "code",
   "execution_count": null,
   "metadata": {},
   "outputs": [],
   "source": []
  },
  {
   "cell_type": "code",
   "execution_count": null,
   "metadata": {},
   "outputs": [],
   "source": []
  },
  {
   "cell_type": "code",
   "execution_count": null,
   "metadata": {},
   "outputs": [],
   "source": []
  },
  {
   "cell_type": "code",
   "execution_count": null,
   "metadata": {},
   "outputs": [],
   "source": []
  },
  {
   "cell_type": "code",
   "execution_count": null,
   "metadata": {},
   "outputs": [],
   "source": []
  },
  {
   "cell_type": "code",
   "execution_count": 24,
   "metadata": {},
   "outputs": [
    {
     "data": {
      "text/html": [
       "<div>\n",
       "<style scoped>\n",
       "    .dataframe tbody tr th:only-of-type {\n",
       "        vertical-align: middle;\n",
       "    }\n",
       "\n",
       "    .dataframe tbody tr th {\n",
       "        vertical-align: top;\n",
       "    }\n",
       "\n",
       "    .dataframe thead th {\n",
       "        text-align: right;\n",
       "    }\n",
       "</style>\n",
       "<table border=\"1\" class=\"dataframe\">\n",
       "  <thead>\n",
       "    <tr style=\"text-align: right;\">\n",
       "      <th></th>\n",
       "      <th>NA_Sales</th>\n",
       "      <th>NA_game_count</th>\n",
       "      <th>NA_avg_ppg</th>\n",
       "      <th>EU_Sales</th>\n",
       "      <th>EU_game_count</th>\n",
       "      <th>EU_avg_ppg</th>\n",
       "      <th>JP_Sales</th>\n",
       "      <th>JP_game_count</th>\n",
       "      <th>JP_avg_ppg</th>\n",
       "    </tr>\n",
       "    <tr>\n",
       "      <th>Genre</th>\n",
       "      <th></th>\n",
       "      <th></th>\n",
       "      <th></th>\n",
       "      <th></th>\n",
       "      <th></th>\n",
       "      <th></th>\n",
       "      <th></th>\n",
       "      <th></th>\n",
       "      <th></th>\n",
       "    </tr>\n",
       "  </thead>\n",
       "  <tbody>\n",
       "    <tr>\n",
       "      <th>Action</th>\n",
       "      <td>522.14</td>\n",
       "      <td>418</td>\n",
       "      <td>1.25</td>\n",
       "      <td>340.20</td>\n",
       "      <td>414</td>\n",
       "      <td>0.82</td>\n",
       "      <td>77.46</td>\n",
       "      <td>271</td>\n",
       "      <td>0.29</td>\n",
       "    </tr>\n",
       "    <tr>\n",
       "      <th>Shooter</th>\n",
       "      <td>449.19</td>\n",
       "      <td>254</td>\n",
       "      <td>1.77</td>\n",
       "      <td>235.03</td>\n",
       "      <td>252</td>\n",
       "      <td>0.93</td>\n",
       "      <td>22.31</td>\n",
       "      <td>166</td>\n",
       "      <td>0.13</td>\n",
       "    </tr>\n",
       "    <tr>\n",
       "      <th>Sports</th>\n",
       "      <td>383.81</td>\n",
       "      <td>295</td>\n",
       "      <td>1.30</td>\n",
       "      <td>256.55</td>\n",
       "      <td>291</td>\n",
       "      <td>0.88</td>\n",
       "      <td>63.87</td>\n",
       "      <td>144</td>\n",
       "      <td>0.44</td>\n",
       "    </tr>\n",
       "    <tr>\n",
       "      <th>Platform</th>\n",
       "      <td>345.29</td>\n",
       "      <td>189</td>\n",
       "      <td>1.83</td>\n",
       "      <td>157.31</td>\n",
       "      <td>189</td>\n",
       "      <td>0.83</td>\n",
       "      <td>111.81</td>\n",
       "      <td>144</td>\n",
       "      <td>0.78</td>\n",
       "    </tr>\n",
       "    <tr>\n",
       "      <th>Role-Playing</th>\n",
       "      <td>234.44</td>\n",
       "      <td>177</td>\n",
       "      <td>1.32</td>\n",
       "      <td>142.06</td>\n",
       "      <td>170</td>\n",
       "      <td>0.84</td>\n",
       "      <td>223.93</td>\n",
       "      <td>172</td>\n",
       "      <td>1.30</td>\n",
       "    </tr>\n",
       "    <tr>\n",
       "      <th>Misc</th>\n",
       "      <td>234.33</td>\n",
       "      <td>155</td>\n",
       "      <td>1.51</td>\n",
       "      <td>138.91</td>\n",
       "      <td>157</td>\n",
       "      <td>0.88</td>\n",
       "      <td>54.17</td>\n",
       "      <td>72</td>\n",
       "      <td>0.75</td>\n",
       "    </tr>\n",
       "    <tr>\n",
       "      <th>Racing</th>\n",
       "      <td>226.41</td>\n",
       "      <td>179</td>\n",
       "      <td>1.26</td>\n",
       "      <td>159.95</td>\n",
       "      <td>180</td>\n",
       "      <td>0.89</td>\n",
       "      <td>44.91</td>\n",
       "      <td>105</td>\n",
       "      <td>0.43</td>\n",
       "    </tr>\n",
       "    <tr>\n",
       "      <th>Fighting</th>\n",
       "      <td>143.98</td>\n",
       "      <td>122</td>\n",
       "      <td>1.18</td>\n",
       "      <td>66.69</td>\n",
       "      <td>119</td>\n",
       "      <td>0.56</td>\n",
       "      <td>39.35</td>\n",
       "      <td>83</td>\n",
       "      <td>0.47</td>\n",
       "    </tr>\n",
       "    <tr>\n",
       "      <th>Simulation</th>\n",
       "      <td>94.79</td>\n",
       "      <td>87</td>\n",
       "      <td>1.09</td>\n",
       "      <td>79.74</td>\n",
       "      <td>86</td>\n",
       "      <td>0.93</td>\n",
       "      <td>34.39</td>\n",
       "      <td>43</td>\n",
       "      <td>0.80</td>\n",
       "    </tr>\n",
       "    <tr>\n",
       "      <th>Puzzle</th>\n",
       "      <td>79.24</td>\n",
       "      <td>52</td>\n",
       "      <td>1.52</td>\n",
       "      <td>32.68</td>\n",
       "      <td>51</td>\n",
       "      <td>0.64</td>\n",
       "      <td>37.09</td>\n",
       "      <td>40</td>\n",
       "      <td>0.93</td>\n",
       "    </tr>\n",
       "    <tr>\n",
       "      <th>Adventure</th>\n",
       "      <td>44.83</td>\n",
       "      <td>41</td>\n",
       "      <td>1.09</td>\n",
       "      <td>30.12</td>\n",
       "      <td>41</td>\n",
       "      <td>0.73</td>\n",
       "      <td>9.54</td>\n",
       "      <td>25</td>\n",
       "      <td>0.38</td>\n",
       "    </tr>\n",
       "    <tr>\n",
       "      <th>Strategy</th>\n",
       "      <td>33.59</td>\n",
       "      <td>27</td>\n",
       "      <td>1.24</td>\n",
       "      <td>19.49</td>\n",
       "      <td>27</td>\n",
       "      <td>0.72</td>\n",
       "      <td>8.98</td>\n",
       "      <td>10</td>\n",
       "      <td>0.90</td>\n",
       "    </tr>\n",
       "  </tbody>\n",
       "</table>\n",
       "</div>"
      ],
      "text/plain": [
       "              NA_Sales  NA_game_count  NA_avg_ppg  EU_Sales  EU_game_count  \\\n",
       "Genre                                                                        \n",
       "Action          522.14            418        1.25    340.20            414   \n",
       "Shooter         449.19            254        1.77    235.03            252   \n",
       "Sports          383.81            295        1.30    256.55            291   \n",
       "Platform        345.29            189        1.83    157.31            189   \n",
       "Role-Playing    234.44            177        1.32    142.06            170   \n",
       "Misc            234.33            155        1.51    138.91            157   \n",
       "Racing          226.41            179        1.26    159.95            180   \n",
       "Fighting        143.98            122        1.18     66.69            119   \n",
       "Simulation       94.79             87        1.09     79.74             86   \n",
       "Puzzle           79.24             52        1.52     32.68             51   \n",
       "Adventure        44.83             41        1.09     30.12             41   \n",
       "Strategy         33.59             27        1.24     19.49             27   \n",
       "\n",
       "              EU_avg_ppg  JP_Sales  JP_game_count  JP_avg_ppg  \n",
       "Genre                                                          \n",
       "Action              0.82     77.46            271        0.29  \n",
       "Shooter             0.93     22.31            166        0.13  \n",
       "Sports              0.88     63.87            144        0.44  \n",
       "Platform            0.83    111.81            144        0.78  \n",
       "Role-Playing        0.84    223.93            172        1.30  \n",
       "Misc                0.88     54.17             72        0.75  \n",
       "Racing              0.89     44.91            105        0.43  \n",
       "Fighting            0.56     39.35             83        0.47  \n",
       "Simulation          0.93     34.39             43        0.80  \n",
       "Puzzle              0.64     37.09             40        0.93  \n",
       "Adventure           0.73      9.54             25        0.38  \n",
       "Strategy            0.72      8.98             10        0.90  "
      ]
     },
     "execution_count": 24,
     "metadata": {},
     "output_type": "execute_result"
    }
   ],
   "source": [
    "pd.concat([NA_publisher_df, EU_publisher_df, JP_publisher_df],axis=1)\n"
   ]
  },
  {
   "cell_type": "code",
   "execution_count": 25,
   "metadata": {},
   "outputs": [
    {
     "data": {
      "text/plain": [
       "0             Sports\n",
       "1           Platform\n",
       "2             Racing\n",
       "3             Sports\n",
       "4       Role-Playing\n",
       "            ...     \n",
       "2071          Sports\n",
       "2072          Sports\n",
       "2073          Action\n",
       "2074        Platform\n",
       "2075            Misc\n",
       "Name: Genre, Length: 2076, dtype: object"
      ]
     },
     "execution_count": 25,
     "metadata": {},
     "output_type": "execute_result"
    }
   ],
   "source": [
    "game_sales_df3['Genre']"
   ]
  }
 ],
 "metadata": {
  "kernelspec": {
   "display_name": "Python 3 (ipykernel)",
   "language": "python",
   "name": "python3"
  },
  "language_info": {
   "codemirror_mode": {
    "name": "ipython",
    "version": 3
   },
   "file_extension": ".py",
   "mimetype": "text/x-python",
   "name": "python",
   "nbconvert_exporter": "python",
   "pygments_lexer": "ipython3",
   "version": "3.10.9"
  }
 },
 "nbformat": 4,
 "nbformat_minor": 2
}
